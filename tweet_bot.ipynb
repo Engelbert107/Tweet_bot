{
 "cells": [
  {
   "cell_type": "markdown",
   "metadata": {},
   "source": [
    "# Using Python to building Twitter Bot"
   ]
  },
  {
   "cell_type": "markdown",
   "metadata": {},
   "source": [
    "To start, we can use Tweepy to create a tweet."
   ]
  },
  {
   "cell_type": "code",
   "execution_count": null,
   "metadata": {},
   "outputs": [],
   "source": [
    "import tweepy\n",
    "import time"
   ]
  },
  {
   "cell_type": "code",
   "execution_count": null,
   "metadata": {},
   "outputs": [],
   "source": [
    "CONSUMER_KEY = \"cDTWNHH8azAkadNxIZCn7pdfG\"\n",
    "CONSUMER_SECRET = \"GsYORYAnFDRerTAzO27qGhHt3F9vCwuBV6OiAwGIc8ObY8Lh3y\"\n",
    "ACCESS_TOKEN = \"1242922145459683329-vHJl5JtsJw7Llv9k8n7PWRmZwx94du\"\n",
    "ACCESS_TOKEN_SECRET = \"XKzkVAE1cU3JWvOD6ZM9LW2YHk5EZScrLeH6MZb4ScxBN\""
   ]
  },
  {
   "cell_type": "markdown",
   "metadata": {},
   "source": [
    "After generating the credentials, save them to later use them in the code.\n",
    "\n",
    "You can test the credentials using the following snippet:"
   ]
  },
  {
   "cell_type": "code",
   "execution_count": null,
   "metadata": {},
   "outputs": [],
   "source": [
    "# Authenticate to Twitter\n",
    "auth = tweepy.OAuthHandler(CONSUMER_KEY, CONSUMER_SECRET)\n",
    "auth.set_access_token(ACCESS_TOKEN, ACCESS_TOKEN_SECRET)\n",
    "\n",
    "api = tweepy.API(auth)\n",
    "\n",
    "try:\n",
    "    api.verify_credentials()\n",
    "    print(\"Authentication OK\")\n",
    "except:\n",
    "    print(\"Error during authentication\")"
   ]
  },
  {
   "cell_type": "markdown",
   "metadata": {},
   "source": [
    "## The API Class"
   ]
  },
  {
   "cell_type": "markdown",
   "metadata": {},
   "source": [
    "The API class has many methods that provide access to Twitter API endpoints. Using these methods, you can access the Twitter API’s functionality.\n",
    "\n",
    "The following code snippet creates an API object that you can use to invoke Twitter API methods. Setting $\\textbf{wait_on_rate_limit}$ and $\\textbf{wait_on_rate_limit_notify}$ to True makes the API object print a message and wait if the rate limit is exceeded:"
   ]
  },
  {
   "cell_type": "code",
   "execution_count": null,
   "metadata": {},
   "outputs": [],
   "source": [
    "# Authenticate to Twitter\n",
    "auth = tweepy.OAuthHandler(CONSUMER_KEY, CONSUMER_SECRET)\n",
    "auth.set_access_token(ACCESS_TOKEN, ACCESS_TOKEN_SECRET)\n",
    "\n",
    "# Create API object\n",
    "api = tweepy.API(auth, wait_on_rate_limit=True, wait_on_rate_limit_notify=True)\n",
    "user = api.me()\n",
    "print(user.screen_name)"
   ]
  },
  {
   "cell_type": "markdown",
   "metadata": {},
   "source": [
    "## Methods for User Timelines, for Tweets, for Users, for followers, for Likes, for Searches"
   ]
  },
  {
   "cell_type": "markdown",
   "metadata": {},
   "source": [
    "These methods deal with reading tweets, mentions, and retweets from your timeline or any other user’s timeline, as long as it’s public. \n",
    "$\\textbf{home_timeline()}$, a Tweepy API method, is used to get the last 20 entries in your timeline. 20 is the default value in Tweepy.\n",
    "\n",
    "This code snippet prints the author and text of the last tweets in your home timeline:"
   ]
  },
  {
   "cell_type": "code",
   "execution_count": null,
   "metadata": {},
   "outputs": [],
   "source": [
    "timeline = api.home_timeline()\n",
    "for tweet in timeline:\n",
    "    print(f\"{tweet.user.name} said {tweet.text}\")"
   ]
  },
  {
   "cell_type": "markdown",
   "metadata": {},
   "source": [
    "The following code uses Tweepy to create a tweet with some text"
   ]
  },
  {
   "cell_type": "code",
   "execution_count": null,
   "metadata": {},
   "outputs": [],
   "source": [
    "api.update_status(\"Test tweet from Tweepy Python\")"
   ]
  },
  {
   "cell_type": "markdown",
   "metadata": {},
   "source": [
    "The snippet below fetches my user, $\\textbf{@EngelbertTchin1}$, and then prints its details as well as its 20 most recent followers:"
   ]
  },
  {
   "cell_type": "code",
   "execution_count": null,
   "metadata": {},
   "outputs": [],
   "source": [
    "user = api.get_user(\"EngelbertTchin1\")\n",
    "\n",
    "print(\"User details:\")\n",
    "print(user.name)\n",
    "print(user.description)\n",
    "print(user.location)\n",
    "\n",
    "print(\"Last 20 Followers:\")\n",
    "for follower in user.followers():\n",
    "    print(follower.name)"
   ]
  },
  {
   "cell_type": "markdown",
   "metadata": {},
   "source": [
    "This code shows how you can use Tweepy to start following $\\textbf{@realpython}$"
   ]
  },
  {
   "cell_type": "code",
   "execution_count": null,
   "metadata": {},
   "outputs": [],
   "source": [
    "api.create_friendship(\"realpython\")"
   ]
  },
  {
   "cell_type": "markdown",
   "metadata": {},
   "source": [
    "You can mark the most recent tweet in your home timeline as Liked as follows"
   ]
  },
  {
   "cell_type": "code",
   "execution_count": null,
   "metadata": {},
   "outputs": [],
   "source": [
    "tweets = api.home_timeline(count=1)\n",
    "tweet = tweets[0]\n",
    "print(f\"Liking tweet {tweet.id} of {tweet.author.name}\")\n",
    "api.create_favorite(tweet.id)"
   ]
  },
  {
   "cell_type": "markdown",
   "metadata": {},
   "source": [
    "Using these methods, you can search tweets using text, language, and other filters."
   ]
  },
  {
   "cell_type": "code",
   "execution_count": null,
   "metadata": {},
   "outputs": [],
   "source": [
    "for tweet in api.search(q=\"Python\", lang=\"en\", rpp=10):\n",
    "    print(f\"{tweet.user.name}:{tweet.text}\")"
   ]
  },
  {
   "cell_type": "markdown",
   "metadata": {},
   "source": [
    "## Cursor"
   ]
  },
  {
   "cell_type": "markdown",
   "metadata": {},
   "source": [
    "A cursor object is created using $\\textbf{tweepy.Cursor}$. The class constructor receives an API method to use as the source for results. In the example, we used $\\textbf{home_timeline()}$ as the source since we wanted tweets from the $\\textbf{timeline}$. The Cursor object has an $\\textbf{items()}$ method that returns an iterable you can use to iterate over the results. You can pass $\\textbf{items()}$ the number of result items that you want to get"
   ]
  },
  {
   "cell_type": "code",
   "execution_count": null,
   "metadata": {},
   "outputs": [],
   "source": [
    "for tweet in tweepy.Cursor(api.home_timeline).items(30):\n",
    "    print(f\"{tweet.user.name} said: {tweet.text}\")"
   ]
  },
  {
   "cell_type": "markdown",
   "metadata": {},
   "source": [
    "## We can make now a Twitter bot in Python with Tweepy"
   ]
  },
  {
   "cell_type": "code",
   "execution_count": null,
   "metadata": {},
   "outputs": [],
   "source": [
    "# Authenticate to Twitter\n",
    "auth = tweepy.OAuthHandler(CONSUMER_KEY, CONSUMER_SECRET)\n",
    "auth.set_access_token(ACCESS_TOKEN, ACCESS_TOKEN_SECRET)\n",
    "api = tweepy.API(auth)\n",
    "\n",
    "def tweetBot():\n",
    "    for tweet in tweepy.Cursor(api.search, q='#005').items(15):\n",
    "        try:\n",
    "            print('\\nTweet by: @' + tweet.user.screen_name)\n",
    "\n",
    "            tweet.retweet()\n",
    "            print('Retweeted the tweet')\n",
    "\n",
    "            # Favorite the tweet\n",
    "            tweet.favorite()\n",
    "            print('Favorited the tweet')\n",
    "\n",
    "            # Follow the user who tweeted\n",
    "            tweet.user.follow()\n",
    "            print('Followed the user')\n",
    "\n",
    "            time.sleep(5)\n",
    "\n",
    "        except tweepy.TweepError as e:\n",
    "            print(e.reason)\n",
    "\n",
    "        except StopIteration:\n",
    "            break\n",
    "\n",
    "            if not tweet.user.following:\n",
    "                # Don't forget to indent\n",
    "                tweet.user.follow()\n",
    "                print('Followed the user')"
   ]
  },
  {
   "cell_type": "code",
   "execution_count": null,
   "metadata": {},
   "outputs": [],
   "source": [
    "tweetBot()"
   ]
  },
  {
   "cell_type": "code",
   "execution_count": null,
   "metadata": {},
   "outputs": [],
   "source": []
  },
  {
   "cell_type": "code",
   "execution_count": null,
   "metadata": {},
   "outputs": [],
   "source": []
  }
 ],
 "metadata": {
  "kernelspec": {
   "display_name": "Python 3",
   "language": "python",
   "name": "python3"
  },
  "language_info": {
   "codemirror_mode": {
    "name": "ipython",
    "version": 3
   },
   "file_extension": ".py",
   "mimetype": "text/x-python",
   "name": "python",
   "nbconvert_exporter": "python",
   "pygments_lexer": "ipython3",
   "version": "3.7.3"
  }
 },
 "nbformat": 4,
 "nbformat_minor": 2
}
